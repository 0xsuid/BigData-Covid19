{
 "cells": [
  {
   "source": [
    "# Team Members:\n",
    "## Godhani Harsh"
   ],
   "cell_type": "markdown",
   "metadata": {}
  },
  {
   "cell_type": "code",
   "execution_count": 1,
   "metadata": {},
   "outputs": [],
   "source": [
    "from pyspark.sql import SparkSession\n",
    "from pyspark.sql.types import StructType,StructField,IntegerType\n",
    "from pyspark.ml.feature import VectorAssembler\n",
    "from pyspark.ml.regression import LinearRegression\n",
    "from pyspark.ml.evaluation import RegressionEvaluator"
   ]
  },
  {
   "cell_type": "code",
   "execution_count": 2,
   "metadata": {},
   "outputs": [],
   "source": [
    "spark = SparkSession\\\n",
    "    .builder\\\n",
    "    .appName(\"BigDataCovid19\")\\\n",
    "    .getOrCreate()"
   ]
  },
  {
   "cell_type": "code",
   "execution_count": 3,
   "metadata": {
    "tags": []
   },
   "outputs": [
    {
     "output_type": "execute_result",
     "data": {
      "text/plain": [
       "    Province/State         Country/Region      Lat      Long  1/22/20  \\\n",
       "0             None               Thailand  15.0000  101.0000        2   \n",
       "1             None                  Japan  36.0000  138.0000        2   \n",
       "2             None              Singapore   1.2833  103.8333        0   \n",
       "3             None                  Nepal  28.1667   84.2500        0   \n",
       "4             None               Malaysia   2.5000  112.5000        0   \n",
       "..             ...                    ...      ...       ...      ...   \n",
       "496           None                 Jersey  49.1900   -2.1100        0   \n",
       "497           None            Puerto Rico  18.2000  -66.5000        0   \n",
       "498           None  Republic of the Congo  -1.4400   15.5560        0   \n",
       "499           None            The Bahamas  24.2500  -76.0000        0   \n",
       "500           None             The Gambia  13.4667  -16.6000        0   \n",
       "\n",
       "     1/23/20  1/24/20  1/25/20  1/26/20  1/27/20  ...  3/14/20  3/15/20  \\\n",
       "0          3        5        7        8        8  ...       82      114   \n",
       "1          1        2        2        4        4  ...      773      839   \n",
       "2          1        3        3        4        5  ...      212      226   \n",
       "3          0        0        1        1        1  ...        1        1   \n",
       "4          0        0        3        4        4  ...      238      428   \n",
       "..       ...      ...      ...      ...      ...  ...      ...      ...   \n",
       "496        0        0        0        0        0  ...        0        0   \n",
       "497        0        0        0        0        0  ...        0        0   \n",
       "498        0        0        0        0        0  ...        0        0   \n",
       "499        0        0        0        0        0  ...        0        0   \n",
       "500        0        0        0        0        0  ...        0        0   \n",
       "\n",
       "     3/16/20  3/17/20  3/18/20  3/19/20  3/20/20  3/21/20  3/22/20  3/23/20  \n",
       "0        147      177      212      272      322      411      599    599.0  \n",
       "1        825      878      889      924      963     1007     1086   1086.0  \n",
       "2        243      266      313      345      385      432      455    455.0  \n",
       "3          1        1        1        1        1        1        2      2.0  \n",
       "4        566      673      790      900     1030     1183     1306   1306.0  \n",
       "..       ...      ...      ...      ...      ...      ...      ...      ...  \n",
       "496        0        0        0        0        0        0        0      0.0  \n",
       "497        0        0        0        0        0        0        0      0.0  \n",
       "498        0        0        0        0        0        0        0      0.0  \n",
       "499        0        0        0        0        0        0        0      0.0  \n",
       "500        0        0        0        0        0        0        0      0.0  \n",
       "\n",
       "[501 rows x 66 columns]"
      ],
      "text/html": "<div>\n<style scoped>\n    .dataframe tbody tr th:only-of-type {\n        vertical-align: middle;\n    }\n\n    .dataframe tbody tr th {\n        vertical-align: top;\n    }\n\n    .dataframe thead th {\n        text-align: right;\n    }\n</style>\n<table border=\"1\" class=\"dataframe\">\n  <thead>\n    <tr style=\"text-align: right;\">\n      <th></th>\n      <th>Province/State</th>\n      <th>Country/Region</th>\n      <th>Lat</th>\n      <th>Long</th>\n      <th>1/22/20</th>\n      <th>1/23/20</th>\n      <th>1/24/20</th>\n      <th>1/25/20</th>\n      <th>1/26/20</th>\n      <th>1/27/20</th>\n      <th>...</th>\n      <th>3/14/20</th>\n      <th>3/15/20</th>\n      <th>3/16/20</th>\n      <th>3/17/20</th>\n      <th>3/18/20</th>\n      <th>3/19/20</th>\n      <th>3/20/20</th>\n      <th>3/21/20</th>\n      <th>3/22/20</th>\n      <th>3/23/20</th>\n    </tr>\n  </thead>\n  <tbody>\n    <tr>\n      <th>0</th>\n      <td>None</td>\n      <td>Thailand</td>\n      <td>15.0000</td>\n      <td>101.0000</td>\n      <td>2</td>\n      <td>3</td>\n      <td>5</td>\n      <td>7</td>\n      <td>8</td>\n      <td>8</td>\n      <td>...</td>\n      <td>82</td>\n      <td>114</td>\n      <td>147</td>\n      <td>177</td>\n      <td>212</td>\n      <td>272</td>\n      <td>322</td>\n      <td>411</td>\n      <td>599</td>\n      <td>599.0</td>\n    </tr>\n    <tr>\n      <th>1</th>\n      <td>None</td>\n      <td>Japan</td>\n      <td>36.0000</td>\n      <td>138.0000</td>\n      <td>2</td>\n      <td>1</td>\n      <td>2</td>\n      <td>2</td>\n      <td>4</td>\n      <td>4</td>\n      <td>...</td>\n      <td>773</td>\n      <td>839</td>\n      <td>825</td>\n      <td>878</td>\n      <td>889</td>\n      <td>924</td>\n      <td>963</td>\n      <td>1007</td>\n      <td>1086</td>\n      <td>1086.0</td>\n    </tr>\n    <tr>\n      <th>2</th>\n      <td>None</td>\n      <td>Singapore</td>\n      <td>1.2833</td>\n      <td>103.8333</td>\n      <td>0</td>\n      <td>1</td>\n      <td>3</td>\n      <td>3</td>\n      <td>4</td>\n      <td>5</td>\n      <td>...</td>\n      <td>212</td>\n      <td>226</td>\n      <td>243</td>\n      <td>266</td>\n      <td>313</td>\n      <td>345</td>\n      <td>385</td>\n      <td>432</td>\n      <td>455</td>\n      <td>455.0</td>\n    </tr>\n    <tr>\n      <th>3</th>\n      <td>None</td>\n      <td>Nepal</td>\n      <td>28.1667</td>\n      <td>84.2500</td>\n      <td>0</td>\n      <td>0</td>\n      <td>0</td>\n      <td>1</td>\n      <td>1</td>\n      <td>1</td>\n      <td>...</td>\n      <td>1</td>\n      <td>1</td>\n      <td>1</td>\n      <td>1</td>\n      <td>1</td>\n      <td>1</td>\n      <td>1</td>\n      <td>1</td>\n      <td>2</td>\n      <td>2.0</td>\n    </tr>\n    <tr>\n      <th>4</th>\n      <td>None</td>\n      <td>Malaysia</td>\n      <td>2.5000</td>\n      <td>112.5000</td>\n      <td>0</td>\n      <td>0</td>\n      <td>0</td>\n      <td>3</td>\n      <td>4</td>\n      <td>4</td>\n      <td>...</td>\n      <td>238</td>\n      <td>428</td>\n      <td>566</td>\n      <td>673</td>\n      <td>790</td>\n      <td>900</td>\n      <td>1030</td>\n      <td>1183</td>\n      <td>1306</td>\n      <td>1306.0</td>\n    </tr>\n    <tr>\n      <th>...</th>\n      <td>...</td>\n      <td>...</td>\n      <td>...</td>\n      <td>...</td>\n      <td>...</td>\n      <td>...</td>\n      <td>...</td>\n      <td>...</td>\n      <td>...</td>\n      <td>...</td>\n      <td>...</td>\n      <td>...</td>\n      <td>...</td>\n      <td>...</td>\n      <td>...</td>\n      <td>...</td>\n      <td>...</td>\n      <td>...</td>\n      <td>...</td>\n      <td>...</td>\n      <td>...</td>\n    </tr>\n    <tr>\n      <th>496</th>\n      <td>None</td>\n      <td>Jersey</td>\n      <td>49.1900</td>\n      <td>-2.1100</td>\n      <td>0</td>\n      <td>0</td>\n      <td>0</td>\n      <td>0</td>\n      <td>0</td>\n      <td>0</td>\n      <td>...</td>\n      <td>0</td>\n      <td>0</td>\n      <td>0</td>\n      <td>0</td>\n      <td>0</td>\n      <td>0</td>\n      <td>0</td>\n      <td>0</td>\n      <td>0</td>\n      <td>0.0</td>\n    </tr>\n    <tr>\n      <th>497</th>\n      <td>None</td>\n      <td>Puerto Rico</td>\n      <td>18.2000</td>\n      <td>-66.5000</td>\n      <td>0</td>\n      <td>0</td>\n      <td>0</td>\n      <td>0</td>\n      <td>0</td>\n      <td>0</td>\n      <td>...</td>\n      <td>0</td>\n      <td>0</td>\n      <td>0</td>\n      <td>0</td>\n      <td>0</td>\n      <td>0</td>\n      <td>0</td>\n      <td>0</td>\n      <td>0</td>\n      <td>0.0</td>\n    </tr>\n    <tr>\n      <th>498</th>\n      <td>None</td>\n      <td>Republic of the Congo</td>\n      <td>-1.4400</td>\n      <td>15.5560</td>\n      <td>0</td>\n      <td>0</td>\n      <td>0</td>\n      <td>0</td>\n      <td>0</td>\n      <td>0</td>\n      <td>...</td>\n      <td>0</td>\n      <td>0</td>\n      <td>0</td>\n      <td>0</td>\n      <td>0</td>\n      <td>0</td>\n      <td>0</td>\n      <td>0</td>\n      <td>0</td>\n      <td>0.0</td>\n    </tr>\n    <tr>\n      <th>499</th>\n      <td>None</td>\n      <td>The Bahamas</td>\n      <td>24.2500</td>\n      <td>-76.0000</td>\n      <td>0</td>\n      <td>0</td>\n      <td>0</td>\n      <td>0</td>\n      <td>0</td>\n      <td>0</td>\n      <td>...</td>\n      <td>0</td>\n      <td>0</td>\n      <td>0</td>\n      <td>0</td>\n      <td>0</td>\n      <td>0</td>\n      <td>0</td>\n      <td>0</td>\n      <td>0</td>\n      <td>0.0</td>\n    </tr>\n    <tr>\n      <th>500</th>\n      <td>None</td>\n      <td>The Gambia</td>\n      <td>13.4667</td>\n      <td>-16.6000</td>\n      <td>0</td>\n      <td>0</td>\n      <td>0</td>\n      <td>0</td>\n      <td>0</td>\n      <td>0</td>\n      <td>...</td>\n      <td>0</td>\n      <td>0</td>\n      <td>0</td>\n      <td>0</td>\n      <td>0</td>\n      <td>0</td>\n      <td>0</td>\n      <td>0</td>\n      <td>0</td>\n      <td>0.0</td>\n    </tr>\n  </tbody>\n</table>\n<p>501 rows × 66 columns</p>\n</div>"
     },
     "metadata": {},
     "execution_count": 3
    }
   ],
   "source": [
    "filename = r\"time_series_19-covid-Confirmed_archived_0325.csv\"\n",
    "# https://spark.apache.org/docs/latest/sql-data-sources-load-save-functions.html\n",
    "df = spark.read.load(filename, format=\"csv\", sep=\",\", inferSchema=\"true\", header=\"true\")\n",
    "# df.printSchema()\n",
    "df.toPandas()"
   ]
  },
  {
   "cell_type": "code",
   "execution_count": 4,
   "metadata": {},
   "outputs": [],
   "source": [
    "df = df.na.drop()"
   ]
  },
  {
   "cell_type": "code",
   "execution_count": 5,
   "metadata": {
    "tags": []
   },
   "outputs": [
    {
     "output_type": "execute_result",
     "data": {
      "text/plain": [
       "  summary Province/State  Country/Region                 Lat  \\\n",
       "0   count            135             135                 135   \n",
       "1    mean           None            None  31.527312592592594   \n",
       "2  stddev           None            None  21.685687608153504   \n",
       "3     min        Alabama       Australia            -41.4545   \n",
       "4     max       Zhejiang  United Kingdom             71.7069   \n",
       "\n",
       "                 Long            1/22/20            1/23/20  \\\n",
       "0                 135                135                135   \n",
       "1   -8.28564814814814  4.059259259259259  4.762962962962963   \n",
       "2  100.36093612126233  38.25713531398141  38.35754949283951   \n",
       "3           -157.4983                  0                  0   \n",
       "4             165.618                444                444   \n",
       "\n",
       "             1/24/20             1/25/20            1/26/20  ...  \\\n",
       "0                135                 135                135  ...   \n",
       "1   6.82962962962963  10.437037037037037  15.42962962962963  ...   \n",
       "2  47.69391536972654   66.31005950197404  92.60069474778388  ...   \n",
       "3                  0                   0                  0  ...   \n",
       "4                549                 761               1058  ...   \n",
       "\n",
       "             3/14/20            3/15/20            3/16/20            3/17/20  \\\n",
       "0                135                135                135                135   \n",
       "1  683.5259259259259  692.0518518518519  723.8518518518518   751.837037037037   \n",
       "2  5838.050280023636   5838.15536743467   5851.67628301258  5860.767767450878   \n",
       "3                  0                  0                  0                  0   \n",
       "4              67790              67794              67798              67799   \n",
       "\n",
       "             3/18/20            3/19/20            3/20/20            3/21/20  \\\n",
       "0                135                135                135                135   \n",
       "1  783.2666666666667  847.2444444444444  917.5777777777778  995.6296296296297   \n",
       "2  5876.640657798937  5908.195565719372  5957.689161184351  6026.642542860333   \n",
       "3                  0                  0                  0                  0   \n",
       "4              67800              67800              67800              67800   \n",
       "\n",
       "              3/22/20             3/23/20  \n",
       "0                 135                 135  \n",
       "1  1080.0296296296297  1079.4518518518519  \n",
       "2    6124.55748135317   6124.684068268117  \n",
       "3                   0                   0  \n",
       "4               67800               67800  \n",
       "\n",
       "[5 rows x 67 columns]"
      ],
      "text/html": "<div>\n<style scoped>\n    .dataframe tbody tr th:only-of-type {\n        vertical-align: middle;\n    }\n\n    .dataframe tbody tr th {\n        vertical-align: top;\n    }\n\n    .dataframe thead th {\n        text-align: right;\n    }\n</style>\n<table border=\"1\" class=\"dataframe\">\n  <thead>\n    <tr style=\"text-align: right;\">\n      <th></th>\n      <th>summary</th>\n      <th>Province/State</th>\n      <th>Country/Region</th>\n      <th>Lat</th>\n      <th>Long</th>\n      <th>1/22/20</th>\n      <th>1/23/20</th>\n      <th>1/24/20</th>\n      <th>1/25/20</th>\n      <th>1/26/20</th>\n      <th>...</th>\n      <th>3/14/20</th>\n      <th>3/15/20</th>\n      <th>3/16/20</th>\n      <th>3/17/20</th>\n      <th>3/18/20</th>\n      <th>3/19/20</th>\n      <th>3/20/20</th>\n      <th>3/21/20</th>\n      <th>3/22/20</th>\n      <th>3/23/20</th>\n    </tr>\n  </thead>\n  <tbody>\n    <tr>\n      <th>0</th>\n      <td>count</td>\n      <td>135</td>\n      <td>135</td>\n      <td>135</td>\n      <td>135</td>\n      <td>135</td>\n      <td>135</td>\n      <td>135</td>\n      <td>135</td>\n      <td>135</td>\n      <td>...</td>\n      <td>135</td>\n      <td>135</td>\n      <td>135</td>\n      <td>135</td>\n      <td>135</td>\n      <td>135</td>\n      <td>135</td>\n      <td>135</td>\n      <td>135</td>\n      <td>135</td>\n    </tr>\n    <tr>\n      <th>1</th>\n      <td>mean</td>\n      <td>None</td>\n      <td>None</td>\n      <td>31.527312592592594</td>\n      <td>-8.28564814814814</td>\n      <td>4.059259259259259</td>\n      <td>4.762962962962963</td>\n      <td>6.82962962962963</td>\n      <td>10.437037037037037</td>\n      <td>15.42962962962963</td>\n      <td>...</td>\n      <td>683.5259259259259</td>\n      <td>692.0518518518519</td>\n      <td>723.8518518518518</td>\n      <td>751.837037037037</td>\n      <td>783.2666666666667</td>\n      <td>847.2444444444444</td>\n      <td>917.5777777777778</td>\n      <td>995.6296296296297</td>\n      <td>1080.0296296296297</td>\n      <td>1079.4518518518519</td>\n    </tr>\n    <tr>\n      <th>2</th>\n      <td>stddev</td>\n      <td>None</td>\n      <td>None</td>\n      <td>21.685687608153504</td>\n      <td>100.36093612126233</td>\n      <td>38.25713531398141</td>\n      <td>38.35754949283951</td>\n      <td>47.69391536972654</td>\n      <td>66.31005950197404</td>\n      <td>92.60069474778388</td>\n      <td>...</td>\n      <td>5838.050280023636</td>\n      <td>5838.15536743467</td>\n      <td>5851.67628301258</td>\n      <td>5860.767767450878</td>\n      <td>5876.640657798937</td>\n      <td>5908.195565719372</td>\n      <td>5957.689161184351</td>\n      <td>6026.642542860333</td>\n      <td>6124.55748135317</td>\n      <td>6124.684068268117</td>\n    </tr>\n    <tr>\n      <th>3</th>\n      <td>min</td>\n      <td>Alabama</td>\n      <td>Australia</td>\n      <td>-41.4545</td>\n      <td>-157.4983</td>\n      <td>0</td>\n      <td>0</td>\n      <td>0</td>\n      <td>0</td>\n      <td>0</td>\n      <td>...</td>\n      <td>0</td>\n      <td>0</td>\n      <td>0</td>\n      <td>0</td>\n      <td>0</td>\n      <td>0</td>\n      <td>0</td>\n      <td>0</td>\n      <td>0</td>\n      <td>0</td>\n    </tr>\n    <tr>\n      <th>4</th>\n      <td>max</td>\n      <td>Zhejiang</td>\n      <td>United Kingdom</td>\n      <td>71.7069</td>\n      <td>165.618</td>\n      <td>444</td>\n      <td>444</td>\n      <td>549</td>\n      <td>761</td>\n      <td>1058</td>\n      <td>...</td>\n      <td>67790</td>\n      <td>67794</td>\n      <td>67798</td>\n      <td>67799</td>\n      <td>67800</td>\n      <td>67800</td>\n      <td>67800</td>\n      <td>67800</td>\n      <td>67800</td>\n      <td>67800</td>\n    </tr>\n  </tbody>\n</table>\n<p>5 rows × 67 columns</p>\n</div>"
     },
     "metadata": {},
     "execution_count": 5
    }
   ],
   "source": [
    "df.describe().toPandas()"
   ]
  },
  {
   "cell_type": "code",
   "execution_count": 6,
   "metadata": {
    "tags": []
   },
   "outputs": [
    {
     "output_type": "execute_result",
     "data": {
      "text/plain": [
       "                 Province/State\n",
       "0               New South Wales\n",
       "1                      Victoria\n",
       "2                    Queensland\n",
       "3               South Australia\n",
       "4         From Diamond Princess\n",
       "5             Western Australia\n",
       "6                      Tasmania\n",
       "7            Northern Territory\n",
       "8  Australian Capital Territory"
      ],
      "text/html": "<div>\n<style scoped>\n    .dataframe tbody tr th:only-of-type {\n        vertical-align: middle;\n    }\n\n    .dataframe tbody tr th {\n        vertical-align: top;\n    }\n\n    .dataframe thead th {\n        text-align: right;\n    }\n</style>\n<table border=\"1\" class=\"dataframe\">\n  <thead>\n    <tr style=\"text-align: right;\">\n      <th></th>\n      <th>Province/State</th>\n    </tr>\n  </thead>\n  <tbody>\n    <tr>\n      <th>0</th>\n      <td>New South Wales</td>\n    </tr>\n    <tr>\n      <th>1</th>\n      <td>Victoria</td>\n    </tr>\n    <tr>\n      <th>2</th>\n      <td>Queensland</td>\n    </tr>\n    <tr>\n      <th>3</th>\n      <td>South Australia</td>\n    </tr>\n    <tr>\n      <th>4</th>\n      <td>From Diamond Princess</td>\n    </tr>\n    <tr>\n      <th>5</th>\n      <td>Western Australia</td>\n    </tr>\n    <tr>\n      <th>6</th>\n      <td>Tasmania</td>\n    </tr>\n    <tr>\n      <th>7</th>\n      <td>Northern Territory</td>\n    </tr>\n    <tr>\n      <th>8</th>\n      <td>Australian Capital Territory</td>\n    </tr>\n  </tbody>\n</table>\n</div>"
     },
     "metadata": {},
     "execution_count": 6
    }
   ],
   "source": [
    "df_aus = df.filter(df[\"Country/Region\"]==\"Australia\")\n",
    "df_aus.select('Province/State').toPandas()"
   ]
  },
  {
   "cell_type": "code",
   "execution_count": 7,
   "metadata": {},
   "outputs": [],
   "source": [
    "confirm_cases = df_aus.select(df_aus.columns[4:]).groupBy().sum().rdd.flatMap(lambda x: x).collect()\n",
    "days = [*range(len(confirm_cases))]\n",
    "new_data = list(zip(days, confirm_cases))"
   ]
  },
  {
   "cell_type": "code",
   "execution_count": 8,
   "metadata": {
    "tags": []
   },
   "outputs": [
    {
     "output_type": "stream",
     "name": "stdout",
     "text": [
      "+---+-----+\n|day|cases|\n+---+-----+\n|  0|    0|\n|  1|    0|\n|  2|    0|\n|  3|    0|\n|  4|    4|\n|  5|    5|\n|  6|    5|\n|  7|    6|\n|  8|    9|\n|  9|    9|\n| 10|   12|\n| 11|   12|\n| 12|   12|\n| 13|   13|\n| 14|   13|\n| 15|   14|\n| 16|   15|\n| 17|   15|\n| 18|   15|\n| 19|   15|\n+---+-----+\nonly showing top 20 rows\n\n"
     ]
    }
   ],
   "source": [
    "df_schema = StructType([StructField(\"day\", IntegerType())\n",
    "                      ,StructField(\"cases\", IntegerType())])\n",
    "df_new = spark.createDataFrame(new_data,schema=df_schema) \n",
    "df_new.show()\n",
    "#https://www.programcreek.com/python/example/104715/pyspark.sql.types.StructType"
   ]
  },
  {
   "cell_type": "code",
   "execution_count": 9,
   "metadata": {
    "tags": []
   },
   "outputs": [
    {
     "output_type": "execute_result",
     "data": {
      "text/plain": [
       "  summary                 day               cases\n",
       "0   count                  62                  62\n",
       "1    mean                30.5  140.24193548387098\n",
       "2  stddev  18.041618552668716   297.9053477958609\n",
       "3     min                   0                   0\n",
       "4     max                  61                1314"
      ],
      "text/html": "<div>\n<style scoped>\n    .dataframe tbody tr th:only-of-type {\n        vertical-align: middle;\n    }\n\n    .dataframe tbody tr th {\n        vertical-align: top;\n    }\n\n    .dataframe thead th {\n        text-align: right;\n    }\n</style>\n<table border=\"1\" class=\"dataframe\">\n  <thead>\n    <tr style=\"text-align: right;\">\n      <th></th>\n      <th>summary</th>\n      <th>day</th>\n      <th>cases</th>\n    </tr>\n  </thead>\n  <tbody>\n    <tr>\n      <th>0</th>\n      <td>count</td>\n      <td>62</td>\n      <td>62</td>\n    </tr>\n    <tr>\n      <th>1</th>\n      <td>mean</td>\n      <td>30.5</td>\n      <td>140.24193548387098</td>\n    </tr>\n    <tr>\n      <th>2</th>\n      <td>stddev</td>\n      <td>18.041618552668716</td>\n      <td>297.9053477958609</td>\n    </tr>\n    <tr>\n      <th>3</th>\n      <td>min</td>\n      <td>0</td>\n      <td>0</td>\n    </tr>\n    <tr>\n      <th>4</th>\n      <td>max</td>\n      <td>61</td>\n      <td>1314</td>\n    </tr>\n  </tbody>\n</table>\n</div>"
     },
     "metadata": {},
     "execution_count": 9
    }
   ],
   "source": [
    "df_new.describe().toPandas()"
   ]
  },
  {
   "cell_type": "code",
   "execution_count": 10,
   "metadata": {
    "tags": []
   },
   "outputs": [
    {
     "output_type": "stream",
     "name": "stdout",
     "text": [
      "+--------+-----+\n|features|cases|\n+--------+-----+\n|   [0.0]|    0|\n|   [1.0]|    0|\n|   [2.0]|    0|\n|   [3.0]|    0|\n|   [4.0]|    4|\n|   [5.0]|    5|\n|   [6.0]|    5|\n|   [7.0]|    6|\n|   [8.0]|    9|\n|   [9.0]|    9|\n|  [10.0]|   12|\n|  [11.0]|   12|\n|  [12.0]|   12|\n|  [13.0]|   13|\n|  [14.0]|   13|\n|  [15.0]|   14|\n|  [16.0]|   15|\n|  [17.0]|   15|\n|  [18.0]|   15|\n|  [19.0]|   15|\n+--------+-----+\nonly showing top 20 rows\n\n"
     ]
    }
   ],
   "source": [
    "assembler = VectorAssembler(inputCols=['day'], outputCol='features')\n",
    "df_ml = assembler.transform(df_new)\n",
    "df_ml = df_ml.select(['features','cases'])\n",
    "df_ml.show()"
   ]
  },
  {
   "cell_type": "code",
   "execution_count": 11,
   "metadata": {},
   "outputs": [],
   "source": [
    "dataset_splits = df_ml.randomSplit([0.7, 0.3])\n",
    "train_df = dataset_splits[0]\n",
    "test_df = dataset_splits[1]"
   ]
  },
  {
   "cell_type": "code",
   "execution_count": 12,
   "metadata": {},
   "outputs": [],
   "source": [
    "lr = LinearRegression(featuresCol = 'features', labelCol='cases', \n",
    "                        maxIter=10, regParam=0.3, elasticNetParam=0.8)\n",
    "lr_model = lr.fit(train_df)"
   ]
  },
  {
   "cell_type": "code",
   "execution_count": 13,
   "metadata": {
    "tags": []
   },
   "outputs": [
    {
     "output_type": "stream",
     "name": "stdout",
     "text": [
      "Intercept: -131.58888048745675\nCoefficient: [8.69345409]\n"
     ]
    }
   ],
   "source": [
    "print(\"Intercept: {}\".format(lr_model.intercept))\n",
    "print(\"Coefficient: {}\".format(lr_model.coefficients.values))"
   ]
  },
  {
   "cell_type": "code",
   "execution_count": 14,
   "metadata": {
    "tags": []
   },
   "outputs": [
    {
     "output_type": "stream",
     "name": "stdout",
     "text": [
      "Number of Iterations: 3\n",
      "Objective History: [0.49999999999999994, 0.43897140616169017, 0.2987219587091187]\n",
      "\n",
      "Explained Variance: 24359.841304896127\n",
      "R Squared: 0.40389195955131885\n",
      "Root Mean Squared Error(RMSE): 189.95007606982853\n",
      "Mean Absolute Error: 124.93489920288282\n",
      "Mean Squared Error: 36081.03139893364\n",
      "\n",
      "+-------+------------------+\n",
      "|summary|             cases|\n",
      "+-------+------------------+\n",
      "|  count|                46|\n",
      "|   mean|111.26086956521739|\n",
      "| stddev|248.74229723708552|\n",
      "|    min|                 0|\n",
      "|    max|              1314|\n",
      "+-------+------------------+\n",
      "\n",
      "+------------------+\n",
      "|         residuals|\n",
      "+------------------+\n",
      "|131.58888048745675|\n",
      "|122.89542639996802|\n",
      "|105.50851822499058|\n",
      "|100.81506413750185|\n",
      "| 93.12161005001312|\n",
      "|  84.4281559625244|\n",
      "| 76.73470187503568|\n",
      "| 71.04124778754695|\n",
      "| 62.34779370005822|\n",
      "|  56.6543396125695|\n",
      "| 47.96088552508078|\n",
      "| 39.26743143759205|\n",
      "| 31.57397735010332|\n",
      "|22.880523262614602|\n",
      "|15.187069175125885|\n",
      "| 7.493615087637153|\n",
      "|-1.199838999851579|\n",
      "| -9.89329308734031|\n",
      "|-35.97365534980648|\n",
      "|-44.66710943729518|\n",
      "+------------------+\n",
      "only showing top 20 rows\n",
      "\n"
     ]
    }
   ],
   "source": [
    "modelsummary = lr_model.summary\n",
    "print(\"Number of Iterations: {}\".format(modelsummary.totalIterations))\n",
    "print(\"Objective History: {}\\n\".format(modelsummary.objectiveHistory))\n",
    "print(\"Explained Variance: {}\".format(modelsummary.explainedVariance))\n",
    "print(\"R Squared: {}\".format(modelsummary.r2))\n",
    "print(\"Root Mean Squared Error(RMSE): {}\".format(modelsummary.rootMeanSquaredError))\n",
    "print(\"Mean Absolute Error: {}\".format(modelsummary.meanAbsoluteError))\n",
    "print(\"Mean Squared Error: {}\\n\".format(modelsummary.meanSquaredError))\n",
    "train_df.describe().show()\n",
    "modelsummary.residuals.show()"
   ]
  },
  {
   "cell_type": "code",
   "execution_count": 15,
   "metadata": {},
   "outputs": [
    {
     "output_type": "stream",
     "name": "stdout",
     "text": [
      "+------------------+-----+--------+\n",
      "|        prediction|cases|features|\n",
      "+------------------+-----+--------+\n",
      "|-114.2019723124793|    0|   [2.0]|\n",
      "|33.586747174829014|   15|  [19.0]|\n",
      "|42.280201262317746|   15|  [20.0]|\n",
      "| 94.44092578725011|   15|  [26.0]|\n",
      "|137.90819622469374|   22|  [31.0]|\n",
      "+------------------+-----+--------+\n",
      "only showing top 5 rows\n",
      "\n",
      "R Squared(R2) on test dataset = 0.3514909551772748\n"
     ]
    }
   ],
   "source": [
    "lr_predictions = lr_model.transform(test_df)\n",
    "lr_predictions.select(\"prediction\",\"cases\",\"features\").show(5)\n",
    "lr_evaluator = RegressionEvaluator(predictionCol=\"prediction\", labelCol=\"cases\", metricName=\"r2\")\n",
    "print(\"R Squared(R2) on test dataset = {}\".format(lr_evaluator.evaluate(lr_predictions)))"
   ]
  },
  {
   "cell_type": "code",
   "execution_count": 16,
   "metadata": {
    "tags": []
   },
   "outputs": [
    {
     "output_type": "stream",
     "name": "stdout",
     "text": [
      "+--------+-----+-------------------+\n|features|cases|         prediction|\n+--------+-----+-------------------+\n|   [0.0]|  0.0|-131.58888048745675|\n|   [1.0]|  0.0|-122.89542639996802|\n|   [3.0]|  0.0|-105.50851822499058|\n|   [4.0]|  4.0| -96.81506413750185|\n|   [5.0]|  5.0| -88.12161005001312|\n|   [6.0]|  5.0|  -79.4281559625244|\n|   [7.0]|  6.0| -70.73470187503568|\n|   [8.0]|  9.0| -62.04124778754695|\n|   [9.0]|  9.0| -53.34779370005822|\n|  [10.0]| 12.0|  -44.6543396125695|\n|  [11.0]| 12.0| -35.96088552508078|\n|  [12.0]| 12.0| -27.26743143759205|\n|  [13.0]| 13.0| -18.57397735010332|\n|  [14.0]| 13.0| -9.880523262614602|\n|  [15.0]| 14.0|-1.1870691751258846|\n|  [16.0]| 15.0|  7.506384912362847|\n|  [17.0]| 15.0|  16.19983899985158|\n|  [18.0]| 15.0|  24.89329308734031|\n|  [21.0]| 15.0|  50.97365534980648|\n|  [22.0]| 15.0|  59.66710943729518|\n+--------+-----+-------------------+\nonly showing top 20 rows\n\n"
     ]
    }
   ],
   "source": [
    "modelsummary.predictions.show()"
   ]
  }
 ],
 "metadata": {
  "language_info": {
   "codemirror_mode": {
    "name": "ipython",
    "version": 3
   },
   "file_extension": ".py",
   "mimetype": "text/x-python",
   "name": "python",
   "nbconvert_exporter": "python",
   "pygments_lexer": "ipython3",
   "version": "3.8.3-final"
  },
  "orig_nbformat": 2,
  "kernelspec": {
   "name": "python3",
   "display_name": "Python 3.8.3 64-bit",
   "metadata": {
    "interpreter": {
     "hash": "03e0017cd2b7c0ce587b5e55431549c2fd7b45212e564590bdeed47a91649dea"
    }
   }
  }
 },
 "nbformat": 4,
 "nbformat_minor": 2
}